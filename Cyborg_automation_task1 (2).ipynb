{
  "nbformat": 4,
  "nbformat_minor": 0,
  "metadata": {
    "colab": {
      "name": "Cyborg_automation_task1.ipynb",
      "provenance": [],
      "collapsed_sections": []
    },
    "kernelspec": {
      "name": "python3",
      "display_name": "Python 3"
    },
    "language_info": {
      "name": "python"
    }
  },
  "cells": [
    {
      "cell_type": "code",
      "metadata": {
        "id": "56pqUZYwacCB"
      },
      "source": [
        "import re\n",
        "\n",
        "def get_words(fname):\n",
        "  words=set()\n",
        "  re_nonalpha=re.compile('[^a-zA-Z ]+')\n",
        "  with open(fname) as fh:\n",
        "    for line in fh:\n",
        "      line=re_nonalpha.sub(' ',line)\n",
        "      \n",
        "      for word in line.split():\n",
        "        words.add(word.lower())\n",
        "    word_list=list(words)\n",
        "    word_list.sort()\n",
        "    return word_list\n"
      ],
      "execution_count": 1,
      "outputs": []
    },
    {
      "cell_type": "code",
      "metadata": {
        "colab": {
          "base_uri": "https://localhost:8080/"
        },
        "id": "UhSsMDZXcPl_",
        "outputId": "e1199c81-eeaf-43f3-ec59-2489566057b2"
      },
      "source": [
        "fname='/content/dictionary.txt'\n",
        "get_words(fname)"
      ],
      "execution_count": 2,
      "outputs": [
        {
          "output_type": "execute_result",
          "data": {
            "text/plain": [
              "['aroma',\n",
              " 'astrology',\n",
              " 'awesome',\n",
              " 'awful',\n",
              " 'breakdown',\n",
              " 'bribe',\n",
              " 'casting',\n",
              " 'crown',\n",
              " 'cute',\n",
              " 'monitor',\n",
              " 'rectangle',\n",
              " 'surprise']"
            ]
          },
          "metadata": {
            "tags": []
          },
          "execution_count": 2
        }
      ]
    },
    {
      "cell_type": "code",
      "metadata": {
        "id": "mQj3dPvSbnXN"
      },
      "source": [
        "\n",
        "def append_words(string1):\n",
        "  with open(fname,'a+') as fh:\n",
        "    fh.seek(0)\n",
        "    data=fh.read(100)\n",
        "    if len(data)>0:\n",
        "      fh.write(\"\\n\")\n",
        "    fh.write(string1)\n",
        "\n"
      ],
      "execution_count": 3,
      "outputs": []
    },
    {
      "cell_type": "code",
      "metadata": {
        "colab": {
          "base_uri": "https://localhost:8080/"
        },
        "id": "xkK-MXUomHqp",
        "outputId": "80f5c0ff-7b8e-44ab-c01b-23a397798f4d"
      },
      "source": [
        "append_words('astronomy')\n",
        "get_words(fname)"
      ],
      "execution_count": 4,
      "outputs": [
        {
          "output_type": "execute_result",
          "data": {
            "text/plain": [
              "['aroma',\n",
              " 'astrology',\n",
              " 'astronomy',\n",
              " 'awesome',\n",
              " 'awful',\n",
              " 'breakdown',\n",
              " 'bribe',\n",
              " 'casting',\n",
              " 'crown',\n",
              " 'cute',\n",
              " 'monitor',\n",
              " 'rectangle',\n",
              " 'surprise']"
            ]
          },
          "metadata": {
            "tags": []
          },
          "execution_count": 4
        }
      ]
    },
    {
      "cell_type": "code",
      "metadata": {
        "id": "M2MI2T2NfL1w"
      },
      "source": [
        "string2=[]\n",
        "def search_words(fname,string2):\n",
        "  words=[]\n",
        "  re_nonalpha=re.compile('[^a-zA-Z ]+')\n",
        "  with open(fname) as fh:\n",
        "    for line in fh:\n",
        "      line=re_nonalpha.sub(' ',line)\n",
        "      for word in line.split():\n",
        "        word=word.lower()\n",
        "        for i in range(len(string2)):\n",
        "          if list(string2)[i]==list(word)[i]:\n",
        "            i=i+1\n",
        "          else:\n",
        "            break\n",
        "        if i==len(string2):\n",
        "          words.append(word.lower())\n",
        "        \n",
        "    return words\n",
        "        \n",
        "    "
      ],
      "execution_count": 24,
      "outputs": []
    },
    {
      "cell_type": "code",
      "metadata": {
        "colab": {
          "base_uri": "https://localhost:8080/"
        },
        "id": "l-UrSGp_uH5n",
        "outputId": "e83503f6-8743-4d3f-bec9-37def5c0c492"
      },
      "source": [
        "#append_words('sonal')\n",
        "#fname='/content/cyb_am_task.txt'\n",
        "\n",
        "string2='as'\n",
        "search_words(fname,string2)\n"
      ],
      "execution_count": 26,
      "outputs": [
        {
          "output_type": "execute_result",
          "data": {
            "text/plain": [
              "['astrology', 'astronomy']"
            ]
          },
          "metadata": {
            "tags": []
          },
          "execution_count": 26
        }
      ]
    },
    {
      "cell_type": "code",
      "metadata": {
        "id": "ciOqem0K_rmC"
      },
      "source": [
        "fname='/content/dictionary.txt'\n",
        "def correct_spellings(textToSearch,textToReplace):\n",
        "  #read input file\n",
        "  fin = open(fname, \"rt\")\n",
        "  #read file contents to string\n",
        "  data = fin.read().lower()\n",
        "  \n",
        "  #replace all occurrences of the required string\n",
        "  data = data.replace(textToSearch,textToReplace.lower())\n",
        "  #close the input file\n",
        "  fin.close()\n",
        "  #open the input file in write mode\n",
        "  fin = open(fname, \"wt\")\n",
        "  #overrite the input file with the resulting data\n",
        "  fin.write(data)\n",
        "  #close the file\n",
        "  fin.close()"
      ],
      "execution_count": 38,
      "outputs": []
    },
    {
      "cell_type": "code",
      "metadata": {
        "id": "QBm_WpWcBLlG"
      },
      "source": [
        "correct_spellings('awful','aweful')"
      ],
      "execution_count": 39,
      "outputs": []
    },
    {
      "cell_type": "code",
      "metadata": {
        "colab": {
          "base_uri": "https://localhost:8080/"
        },
        "id": "suQh8Taw_2po",
        "outputId": "099b9a5b-36a2-4719-94f4-af879d3f0c19"
      },
      "source": [
        "fname='/content/dictionary.txt'\n",
        "get_words(fname)"
      ],
      "execution_count": 40,
      "outputs": [
        {
          "output_type": "execute_result",
          "data": {
            "text/plain": [
              "['aroma',\n",
              " 'astrology',\n",
              " 'astronomy',\n",
              " 'aweful',\n",
              " 'awesome',\n",
              " 'breakdown',\n",
              " 'bribe',\n",
              " 'casting',\n",
              " 'crown',\n",
              " 'cute',\n",
              " 'monitor',\n",
              " 'rectangle',\n",
              " 'surprise']"
            ]
          },
          "metadata": {
            "tags": []
          },
          "execution_count": 40
        }
      ]
    },
    {
      "cell_type": "code",
      "metadata": {
        "id": "TqofrwP_Bg6X"
      },
      "source": [
        "def delete_words(word):\n",
        "  f = open(fname,'r')\n",
        "  lst = []\n",
        "  for line in f:\n",
        "    if word in line:\n",
        "      line = line.replace(word,'')\n",
        "    lst.append(line)\n",
        "  f.close()\n",
        "  f = open(fname,'w')\n",
        "  for line in lst:\n",
        "    f.write(line)\n",
        "  f.close()\n"
      ],
      "execution_count": 41,
      "outputs": []
    },
    {
      "cell_type": "code",
      "metadata": {
        "colab": {
          "base_uri": "https://localhost:8080/"
        },
        "id": "vFsq-rWFDNFt",
        "outputId": "724c6b4a-a6ee-4371-add4-06ad2f275d0f"
      },
      "source": [
        "delete_words('aroma')\n",
        "get_words(fname)"
      ],
      "execution_count": 42,
      "outputs": [
        {
          "output_type": "execute_result",
          "data": {
            "text/plain": [
              "['astrology',\n",
              " 'astronomy',\n",
              " 'aweful',\n",
              " 'awesome',\n",
              " 'breakdown',\n",
              " 'bribe',\n",
              " 'casting',\n",
              " 'crown',\n",
              " 'cute',\n",
              " 'monitor',\n",
              " 'rectangle',\n",
              " 'surprise']"
            ]
          },
          "metadata": {
            "tags": []
          },
          "execution_count": 42
        }
      ]
    }
  ]
}